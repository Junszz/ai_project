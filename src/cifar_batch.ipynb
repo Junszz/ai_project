{
 "cells": [
  {
   "cell_type": "code",
   "execution_count": 1,
   "metadata": {},
   "outputs": [],
   "source": [
    "import numpy as np # linear algebra\n",
    "import pandas as pd # data processing, CSV file I/O (e.g. pd.read_csv)\n",
    "import os\n",
    "import torch\n",
    "import torchvision\n",
    "from torchvision import models\n",
    "import torch.nn as nn # All neural network modules, nn.Linear, nn.Conv2d, BatchNorm, Loss functions\n",
    "import torchvision.datasets as datasets # Has standard datasets we can import in a nice way\n",
    "import torchvision.transforms as transforms # Transformations we can perform on our dataset\n",
    "import torch.nn.functional as F # All functions that don't have any parameters\n",
    "from torch.utils.data import DataLoader, Dataset # Gives easier dataset managment and creates mini batches\n",
    "from torchvision.datasets import ImageFolder\n",
    "import torch.optim as optim # For all Optimization algorithms, SGD, Adam, etc.\n",
    "from torch.optim import lr_scheduler\n",
    "from PIL import Image\n",
    "from tqdm import tqdm\n",
    "from torchvision.utils import make_grid\n",
    "import matplotlib.pyplot as plt\n",
    "import seaborn as sns"
   ]
  },
  {
   "cell_type": "code",
   "execution_count": null,
   "metadata": {},
   "outputs": [],
   "source": [
    "def load_cifar10_data(filename):\n",
    "    with open('../datasets/cifar10/cifar-10-batches-py/'+ filename, 'rb') as file:\n",
    "        batch = pickle.load(file, encoding='latin1')\n",
    "\n",
    "    features = batch['data']\n",
    "    labels = batch['labels']\n",
    "    return features, labels"
   ]
  },
  {
   "cell_type": "code",
   "execution_count": null,
   "metadata": {},
   "outputs": [],
   "source": [
    "# Load files\n",
    "batch_1, labels_1 = load_cifar10_data('data_batch_1')\n",
    "batch_2, labels_2 = load_cifar10_data('data_batch_2')\n",
    "batch_3, labels_3 = load_cifar10_data('data_batch_3')\n",
    "batch_4, labels_4 = load_cifar10_data('data_batch_4')\n",
    "batch_5, labels_5 = load_cifar10_data('data_batch_5')"
   ]
  },
  {
   "cell_type": "code",
   "execution_count": null,
   "metadata": {},
   "outputs": [],
   "source": [
    "# print(batch_1)\n",
    "# print(labels_1)\n",
    "freq_1 = []\n",
    "freq_2 = []\n",
    "freq_3 = []\n",
    "freq_4 = []\n",
    "freq_5 = []\n",
    "\n",
    "for x in range (10):\n",
    "    count_1 = 0\n",
    "    count_2 = 0\n",
    "    count_3 = 0\n",
    "    count_4 = 0\n",
    "    count_5 = 0\n",
    "    for img_label in labels_1:\n",
    "        if img_label == x:\n",
    "            count_1 += 1\n",
    "    for img_label in labels_2:\n",
    "        if img_label == x:\n",
    "            count_2 += 1\n",
    "    for img_label in labels_3:\n",
    "        if img_label == x:\n",
    "            count_3 += 1\n",
    "    for img_label in labels_4:\n",
    "        if img_label == x:\n",
    "            count_4 += 1\n",
    "    for img_label in labels_5:\n",
    "        if img_label == x:\n",
    "            count_5 += 1\n",
    "    \n",
    "    freq_1.append(count_1)\n",
    "    freq_2.append(count_2)\n",
    "    freq_3.append(count_3)\n",
    "    freq_4.append(count_4)\n",
    "    freq_5.append(count_5)\n",
    "\n",
    "print(freq_1)\n",
    "print(freq_2)\n",
    "print(freq_3)\n",
    "print(freq_4)\n",
    "print(freq_5)\n"
   ]
  },
  {
   "cell_type": "code",
   "execution_count": 2,
   "metadata": {},
   "outputs": [
    {
     "ename": "NameError",
     "evalue": "name 'freq_1' is not defined",
     "output_type": "error",
     "traceback": [
      "\u001b[1;31m---------------------------------------------------------------------------\u001b[0m",
      "\u001b[1;31mNameError\u001b[0m                                 Traceback (most recent call last)",
      "\u001b[1;32mc:\\workspace\\FYP\\ai_project\\src\\cifar_batch.ipynb Cell 5\u001b[0m in \u001b[0;36m<cell line: 4>\u001b[1;34m()\u001b[0m\n\u001b[0;32m      <a href='vscode-notebook-cell:/c%3A/workspace/FYP/ai_project/src/cifar_batch.ipynb#W4sZmlsZQ%3D%3D?line=0'>1</a>\u001b[0m idx_to_class \u001b[39m=\u001b[39m [\u001b[39m'\u001b[39m\u001b[39mairplane\u001b[39m\u001b[39m'\u001b[39m, \u001b[39m'\u001b[39m\u001b[39mautomobile\u001b[39m\u001b[39m'\u001b[39m, \u001b[39m'\u001b[39m\u001b[39mbird\u001b[39m\u001b[39m'\u001b[39m, \u001b[39m'\u001b[39m\u001b[39mcat\u001b[39m\u001b[39m'\u001b[39m, \u001b[39m'\u001b[39m\u001b[39mdeer\u001b[39m\u001b[39m'\u001b[39m, \u001b[39m'\u001b[39m\u001b[39mdog\u001b[39m\u001b[39m'\u001b[39m, \u001b[39m'\u001b[39m\u001b[39mfrog\u001b[39m\u001b[39m'\u001b[39m, \u001b[39m'\u001b[39m\u001b[39mhorse\u001b[39m\u001b[39m'\u001b[39m, \u001b[39m'\u001b[39m\u001b[39mship\u001b[39m\u001b[39m'\u001b[39m, \u001b[39m'\u001b[39m\u001b[39mtruck\u001b[39m\u001b[39m'\u001b[39m]\n\u001b[0;32m      <a href='vscode-notebook-cell:/c%3A/workspace/FYP/ai_project/src/cifar_batch.ipynb#W4sZmlsZQ%3D%3D?line=2'>3</a>\u001b[0m plt\u001b[39m.\u001b[39mfigure(figsize\u001b[39m=\u001b[39m(\u001b[39m12\u001b[39m,\u001b[39m8\u001b[39m))\n\u001b[1;32m----> <a href='vscode-notebook-cell:/c%3A/workspace/FYP/ai_project/src/cifar_batch.ipynb#W4sZmlsZQ%3D%3D?line=3'>4</a>\u001b[0m ax \u001b[39m=\u001b[39m sns\u001b[39m.\u001b[39mbarplot(x\u001b[39m=\u001b[39midx_to_class, y\u001b[39m=\u001b[39mfreq_1)\n\u001b[0;32m      <a href='vscode-notebook-cell:/c%3A/workspace/FYP/ai_project/src/cifar_batch.ipynb#W4sZmlsZQ%3D%3D?line=4'>5</a>\u001b[0m ax\u001b[39m.\u001b[39mbar_label(ax\u001b[39m.\u001b[39mcontainers[\u001b[39m0\u001b[39m])\n\u001b[0;32m      <a href='vscode-notebook-cell:/c%3A/workspace/FYP/ai_project/src/cifar_batch.ipynb#W4sZmlsZQ%3D%3D?line=5'>6</a>\u001b[0m plt\u001b[39m.\u001b[39mylabel(\u001b[39m'\u001b[39m\u001b[39mFrequency-Counts\u001b[39m\u001b[39m'\u001b[39m, fontsize\u001b[39m=\u001b[39m\u001b[39m15\u001b[39m)\n",
      "\u001b[1;31mNameError\u001b[0m: name 'freq_1' is not defined"
     ]
    },
    {
     "data": {
      "text/plain": [
       "<Figure size 864x576 with 0 Axes>"
      ]
     },
     "metadata": {},
     "output_type": "display_data"
    }
   ],
   "source": [
    "idx_to_class = ['airplane', 'automobile', 'bird', 'cat', 'deer', 'dog', 'frog', 'horse', 'ship', 'truck']\n",
    "\n",
    "plt.figure(figsize=(12,8))\n",
    "ax = sns.barplot(x=idx_to_class, y=freq_1)\n",
    "ax.bar_label(ax.containers[0])\n",
    "plt.ylabel('Frequency-Counts', fontsize=15)\n",
    "plt.xlabel('ClassId',fontsize=13)\n",
    "plt.title(\"Batch 1\")\n",
    "plt.show()"
   ]
  },
  {
   "cell_type": "code",
   "execution_count": null,
   "metadata": {},
   "outputs": [],
   "source": [
    "plt.figure(figsize=(12,8))\n",
    "ax = sns.barplot(x=idx_to_class, y=freq_2)\n",
    "ax.bar_label(ax.containers[0])\n",
    "plt.ylabel('Frequency-Counts', fontsize=15)\n",
    "plt.xlabel('ClassId',fontsize=13)\n",
    "plt.title(\"Batch 2\")\n",
    "plt.show()"
   ]
  },
  {
   "cell_type": "code",
   "execution_count": null,
   "metadata": {},
   "outputs": [],
   "source": [
    "plt.figure(figsize=(12,8))\n",
    "ax = sns.barplot(x=idx_to_class, y=freq_3)\n",
    "ax.bar_label(ax.containers[0])\n",
    "plt.ylabel('Frequency-Counts', fontsize=15)\n",
    "plt.xlabel('ClassId',fontsize=13)\n",
    "plt.title(\"Batch 3\")\n",
    "plt.show()"
   ]
  },
  {
   "cell_type": "code",
   "execution_count": null,
   "metadata": {},
   "outputs": [],
   "source": [
    "plt.figure(figsize=(12,8))\n",
    "ax = sns.barplot(x=idx_to_class, y=freq_4)\n",
    "ax.bar_label(ax.containers[0])\n",
    "plt.ylabel('Frequency-Counts', fontsize=15)\n",
    "plt.xlabel('ClassId',fontsize=13)\n",
    "plt.title(\"Batch 4\")\n",
    "plt.show()"
   ]
  },
  {
   "cell_type": "code",
   "execution_count": null,
   "metadata": {},
   "outputs": [],
   "source": [
    "plt.figure(figsize=(12,8))\n",
    "ax = sns.barplot(x=idx_to_class, y=freq_5)\n",
    "ax.bar_label(ax.containers[0])\n",
    "plt.ylabel('Frequency-Counts', fontsize=15)\n",
    "plt.xlabel('ClassId',fontsize=13)\n",
    "plt.title(\"Batch 5\")\n",
    "plt.show()"
   ]
  },
  {
   "cell_type": "code",
   "execution_count": 3,
   "metadata": {},
   "outputs": [
    {
     "name": "stdout",
     "output_type": "stream",
     "text": [
      "10 classes:  ['airplane', 'automobile', 'bird', 'cat', 'deer', 'dog', 'frog', 'horse', 'ship', 'truck']\n",
      "Batch 1 size:  10000\n"
     ]
    }
   ],
   "source": [
    "batch1_dataset = ImageFolder(\"../datasets/cifar10_png/train/\")\n",
    "\n",
    "print(\"10 classes: \",batch1_dataset.classes)\n",
    "print(\"Batch 1 size: \", len(batch1_dataset))"
   ]
  },
  {
   "cell_type": "code",
   "execution_count": 4,
   "metadata": {},
   "outputs": [
    {
     "name": "stdout",
     "output_type": "stream",
     "text": [
      "[1005, 974, 1032, 1016, 999, 937, 1030, 1001, 1025, 981]\n"
     ]
    },
    {
     "data": {
      "image/png": "[encoded data removed]",
      "text/plain": [
       "<Figure size 864x576 with 1 Axes>"
      ]
     },
     "metadata": {
      "needs_background": "light"
     },
     "output_type": "display_data"
    }
   ],
   "source": [
    "freq = []\n",
    "epc = []\n",
    "idx_to_class = list(batch1_dataset.classes)\n",
    "\n",
    "for x in range (10):\n",
    "    count = 0\n",
    "    \n",
    "    for img_class in batch1_dataset.targets:\n",
    "        if img_class == x:\n",
    "            count += 1\n",
    "    epc.append(x)\n",
    "    freq.append(count)\n",
    "\n",
    "print(freq)\n",
    "\n",
    "plt.figure(figsize=(12,8))\n",
    "ax = sns.barplot(x=idx_to_class, y=freq)\n",
    "ax.bar_label(ax.containers[0])\n",
    "plt.ylabel('Frequency-Counts', fontsize=15)\n",
    "plt.xlabel('ClassId',fontsize=13)\n",
    "plt.show()"
   ]
  },
  {
   "cell_type": "code",
   "execution_count": 5,
   "metadata": {},
   "outputs": [
    {
     "name": "stdout",
     "output_type": "stream",
     "text": [
      "[9.950248756218905, 10.26694045174538, 9.689922480620154, 9.84251968503937, 10.01001001001001, 10.672358591248665, 9.70873786407767, 9.99000999000999, 9.75609756097561, 10.193679918450561]\n",
      "100.0805253083963\n"
     ]
    }
   ],
   "source": [
    "class_weights = []\n",
    "accum = 0\n",
    "\n",
    "\n",
    "for count in freq:\n",
    "    weight = num_samples/count\n",
    "    class_weights.append(weight)\n",
    "    accum += weight\n",
    "\n",
    "print(class_weights)\n",
    "print(accum)"
   ]
  },
  {
   "cell_type": "code",
   "execution_count": 6,
   "metadata": {},
   "outputs": [
    {
     "name": "stdout",
     "output_type": "stream",
     "text": [
      "Class Weight:  [9.950248756218905, 10.26694045174538, 9.689922480620154, 9.84251968503937, 10.01001001001001, 10.672358591248665, 9.70873786407767, 9.99000999000999, 9.75609756097561, 10.193679918450561]\n"
     ]
    }
   ],
   "source": [
    "class_counts = freq\n",
    "num_samples = sum(freq)\n",
    "\n",
    "labels = batch1_dataset.targets #corresponding labels of samples\n",
    "class_weights = [num_samples/class_counts[i] for i in range(len(class_counts))]\n",
    "weights = [class_weights[labels[i]] for i in range(int(num_samples))]\n",
    "sampler = torch.utils.data.sampler.WeightedRandomSampler(torch.DoubleTensor(weights), int(num_samples))\n",
    "\n",
    "print(\"Class Weight: \",class_weights)\n",
    "\n",
    "trainloader = DataLoader(batch1_dataset, \n",
    "                        batch_size=50, \n",
    "                        sampler=sampler,\n",
    "                        shuffle=False,\n",
    "                        num_workers=4, \n",
    "                        pin_memory=False)"
   ]
  },
  {
   "cell_type": "code",
   "execution_count": 18,
   "metadata": {},
   "outputs": [],
   "source": [
    "new_freq = []\n",
    "for x in range(10):\n",
    "    count = 0\n",
    "    for image,labels in trainloader:\n",
    "        for item_label in labels:\n",
    "            if item_label == x:\n",
    "                count += 1\n",
    "    #     if label.item() == x:\n",
    "    #         count += 1\n",
    "    new_freq.append(count)\n",
    "\n",
    "print(new_freq)"
   ]
  }
 ],
 "metadata": {
  "kernelspec": {
   "display_name": "Python 3.9.12 ('base')",
   "language": "python",
   "name": "python3"
  },
  "language_info": {
   "codemirror_mode": {
    "name": "ipython",
    "version": 3
   },
   "file_extension": ".py",
   "mimetype": "text/x-python",
   "name": "python",
   "nbconvert_exporter": "python",
   "pygments_lexer": "ipython3",
   "version": "3.9.12"
  },
  "orig_nbformat": 4,
  "vscode": {
   "interpreter": {
    "hash": "10b752d122ffbd1b758811b5ed6929ef257394e7b9ef6f69ed2e28f3a3aa37ac"
   }
  }
 },
 "nbformat": 4,
 "nbformat_minor": 2
}
